{
  "cells": [
    {
      "cell_type": "code",
      "source": [
        "!pip install --upgrade pip setuptools wheel\n",
        "!pip install qiskit-aer --prefer-binary --no-cache-dir\n",
        "!pip install qiskit --prefer-binary --no-cache-dir"
      ],
      "metadata": {
        "colab": {
          "base_uri": "https://localhost:8080/",
          "height": 1000
        },
        "collapsed": true,
        "id": "-tFxrAQtHWgr",
        "outputId": "6e25ce09-cb66-43ee-e909-a68e94d76e70"
      },
      "execution_count": 1,
      "outputs": [
        {
          "output_type": "stream",
          "name": "stdout",
          "text": [
            "Requirement already satisfied: pip in /usr/local/lib/python3.12/dist-packages (24.1.2)\n",
            "Collecting pip\n",
            "  Downloading pip-25.2-py3-none-any.whl.metadata (4.7 kB)\n",
            "Requirement already satisfied: setuptools in /usr/local/lib/python3.12/dist-packages (75.2.0)\n",
            "Collecting setuptools\n",
            "  Using cached setuptools-80.9.0-py3-none-any.whl.metadata (6.6 kB)\n",
            "Requirement already satisfied: wheel in /usr/local/lib/python3.12/dist-packages (0.45.1)\n",
            "Downloading pip-25.2-py3-none-any.whl (1.8 MB)\n",
            "\u001b[2K   \u001b[90m━━━━━━━━━━━━━━━━━━━━━━━━━━━━━━━━━━━━━━━━\u001b[0m \u001b[32m1.8/1.8 MB\u001b[0m \u001b[31m20.0 MB/s\u001b[0m eta \u001b[36m0:00:00\u001b[0m\n",
            "\u001b[?25hUsing cached setuptools-80.9.0-py3-none-any.whl (1.2 MB)\n",
            "Installing collected packages: setuptools, pip\n",
            "  Attempting uninstall: setuptools\n",
            "    Found existing installation: setuptools 75.2.0\n",
            "    Uninstalling setuptools-75.2.0:\n",
            "      Successfully uninstalled setuptools-75.2.0\n",
            "  Attempting uninstall: pip\n",
            "    Found existing installation: pip 24.1.2\n",
            "    Uninstalling pip-24.1.2:\n",
            "      Successfully uninstalled pip-24.1.2\n",
            "\u001b[31mERROR: pip's dependency resolver does not currently take into account all the packages that are installed. This behaviour is the source of the following dependency conflicts.\n",
            "ipython 7.34.0 requires jedi>=0.16, which is not installed.\u001b[0m\u001b[31m\n",
            "\u001b[0mSuccessfully installed pip-25.2 setuptools-80.9.0\n"
          ]
        },
        {
          "output_type": "display_data",
          "data": {
            "application/vnd.colab-display-data+json": {
              "pip_warning": {
                "packages": [
                  "_distutils_hack"
                ]
              },
              "id": "166242c760dc405c97ba13f9b7ac0d82"
            }
          },
          "metadata": {}
        },
        {
          "output_type": "stream",
          "name": "stdout",
          "text": [
            "Collecting qiskit-aer\n",
            "  Downloading qiskit_aer-0.17.2-cp312-cp312-manylinux_2_17_x86_64.manylinux2014_x86_64.whl.metadata (8.3 kB)\n",
            "Collecting qiskit>=1.1.0 (from qiskit-aer)\n",
            "  Downloading qiskit-2.2.0-cp39-abi3-manylinux2014_x86_64.manylinux_2_17_x86_64.whl.metadata (12 kB)\n",
            "Requirement already satisfied: numpy>=1.16.3 in /usr/local/lib/python3.12/dist-packages (from qiskit-aer) (2.0.2)\n",
            "Requirement already satisfied: scipy>=1.0 in /usr/local/lib/python3.12/dist-packages (from qiskit-aer) (1.16.2)\n",
            "Requirement already satisfied: psutil>=5 in /usr/local/lib/python3.12/dist-packages (from qiskit-aer) (5.9.5)\n",
            "Requirement already satisfied: python-dateutil>=2.8.0 in /usr/local/lib/python3.12/dist-packages (from qiskit-aer) (2.9.0.post0)\n",
            "Requirement already satisfied: six>=1.5 in /usr/local/lib/python3.12/dist-packages (from python-dateutil>=2.8.0->qiskit-aer) (1.17.0)\n",
            "Requirement already satisfied: rustworkx>=0.15.0 in /usr/local/lib/python3.12/dist-packages (from qiskit>=1.1.0->qiskit-aer) (0.17.1)\n",
            "Requirement already satisfied: dill>=0.3 in /usr/local/lib/python3.12/dist-packages (from qiskit>=1.1.0->qiskit-aer) (0.3.8)\n",
            "Requirement already satisfied: stevedore>=3.0.0 in /usr/local/lib/python3.12/dist-packages (from qiskit>=1.1.0->qiskit-aer) (5.5.0)\n",
            "Requirement already satisfied: typing-extensions in /usr/local/lib/python3.12/dist-packages (from qiskit>=1.1.0->qiskit-aer) (4.15.0)\n",
            "Downloading qiskit_aer-0.17.2-cp312-cp312-manylinux_2_17_x86_64.manylinux2014_x86_64.whl (12.4 MB)\n",
            "\u001b[2K   \u001b[90m━━━━━━━━━━━━━━━━━━━━━━━━━━━━━━━━━━━━━━━━\u001b[0m \u001b[32m12.4/12.4 MB\u001b[0m \u001b[31m157.0 MB/s\u001b[0m  \u001b[33m0:00:00\u001b[0m\n",
            "\u001b[?25hDownloading qiskit-2.2.0-cp39-abi3-manylinux2014_x86_64.manylinux_2_17_x86_64.whl (8.0 MB)\n",
            "\u001b[2K   \u001b[90m━━━━━━━━━━━━━━━━━━━━━━━━━━━━━━━━━━━━━━━━\u001b[0m \u001b[32m8.0/8.0 MB\u001b[0m \u001b[31m251.3 MB/s\u001b[0m  \u001b[33m0:00:00\u001b[0m\n",
            "\u001b[?25hInstalling collected packages: qiskit, qiskit-aer\n",
            "\u001b[2K   \u001b[90m━━━━━━━━━━━━━━━━━━━━━━━━━━━━━━━━━━━━━━━━\u001b[0m \u001b[32m2/2\u001b[0m [qiskit-aer]\n",
            "\u001b[1A\u001b[2KSuccessfully installed qiskit-2.2.0 qiskit-aer-0.17.2\n",
            "Requirement already satisfied: qiskit in /usr/local/lib/python3.12/dist-packages (2.2.0)\n",
            "Requirement already satisfied: rustworkx>=0.15.0 in /usr/local/lib/python3.12/dist-packages (from qiskit) (0.17.1)\n",
            "Requirement already satisfied: numpy<3,>=1.17 in /usr/local/lib/python3.12/dist-packages (from qiskit) (2.0.2)\n",
            "Requirement already satisfied: scipy>=1.5 in /usr/local/lib/python3.12/dist-packages (from qiskit) (1.16.2)\n",
            "Requirement already satisfied: dill>=0.3 in /usr/local/lib/python3.12/dist-packages (from qiskit) (0.3.8)\n",
            "Requirement already satisfied: stevedore>=3.0.0 in /usr/local/lib/python3.12/dist-packages (from qiskit) (5.5.0)\n",
            "Requirement already satisfied: typing-extensions in /usr/local/lib/python3.12/dist-packages (from qiskit) (4.15.0)\n"
          ]
        }
      ]
    },
    {
      "cell_type": "code",
      "source": [
        "# Install Qiskit\n",
        "!pip install qiskit qiskit-aer --quiet\n",
        "\n",
        "# Imports\n",
        "from math import gcd\n",
        "from qiskit import QuantumCircuit, transpile\n",
        "from qiskit_aer import AerSimulator\n",
        "from qiskit.visualization import plot_histogram\n",
        "import numpy as np\n",
        "\n",
        "# Step 1: User input\n",
        "N = int(input(\"Enter a composite number N to factor (e.g., 15, 21): \"))\n",
        "coprimes = [a for a in range(2, N) if gcd(a, N) == 1]\n",
        "print(f\"\\nValid coprime choices for N = {N}: {coprimes}\")\n",
        "a = int(input(\"Select a value for 'a' from the list above: \"))\n",
        "if a not in coprimes:\n",
        "    raise ValueError(\"Invalid coprime selected.\")\n",
        "\n",
        "# Step 2: Modular exponentiation circuit (for N = 15 or 21)\n",
        "def controlled_modular_mult(a, N):\n",
        "    qc = QuantumCircuit(4)\n",
        "    for i in range(4):\n",
        "        if pow(a, 2**i, N) % 2 == 1:\n",
        "            qc.x(i)\n",
        "    return qc.to_gate(label=f\"U_{a} mod {N}\").control()\n",
        "\n",
        "# Step 3: Quantum Phase Estimation\n",
        "def qpe(a, N, n_count=3):\n",
        "    qc = QuantumCircuit(n_count + 4, n_count)\n",
        "    qc.x(n_count + 3)  # Initialize target qubit to |1>\n",
        "    qc.h(range(n_count))  # Hadamard on counting qubits\n",
        "\n",
        "    # Controlled-U operations\n",
        "    for i in range(n_count):\n",
        "        gate = controlled_modular_mult(pow(a, 2**i, N), N)\n",
        "        qc.append(gate, [i] + list(range(n_count, n_count + 4)))\n",
        "\n",
        "    # Inverse QFT\n",
        "    for i in range(n_count // 2):\n",
        "        qc.swap(i, n_count - i - 1)\n",
        "    for j in range(n_count):\n",
        "        for m in range(j):\n",
        "            qc.cp(-np.pi / float(2 ** (j - m)), m, j)\n",
        "        qc.h(j)\n",
        "\n",
        "    qc.measure(range(n_count), range(n_count))\n",
        "    return qc\n",
        "\n",
        "# Step 4: Run simulation\n",
        "qc = qpe(a, N)\n",
        "simulator = AerSimulator()\n",
        "compiled = transpile(qc, simulator)\n",
        "result = simulator.run(compiled).result()\n",
        "counts = result.get_counts()\n",
        "plot_histogram(counts)\n",
        "\n",
        "# Step 5: Classical post-processing\n",
        "def get_order_classically(a, N):\n",
        "    for r in range(2, N):\n",
        "        if pow(a, r, N) == 1:\n",
        "            return r\n",
        "    return None\n",
        "\n",
        "r = get_order_classically(a, N)\n",
        "print(f\"\\nEstimated order r of a = {a} mod N = {N} is: {r}\")\n",
        "\n",
        "if r and r % 2 == 0:\n",
        "    x = pow(a, r // 2)\n",
        "    factor1 = gcd(x - 1, N)\n",
        "    factor2 = gcd(x + 1, N)\n",
        "    if factor1 != 1 and factor1 != N:\n",
        "        print(f\"\\n🎉 Non-trivial factors of {N} are: {factor1} and {factor2}\")\n",
        "    else:\n",
        "        print(\"\\n⚠️ Order is even but failed to find non-trivial factors. Try another 'a'.\")\n",
        "else:\n",
        "    print(\"\\n⚠️ Order is odd or undefined. Try another 'a'.\")"
      ],
      "metadata": {
        "colab": {
          "base_uri": "https://localhost:8080/"
        },
        "id": "ebsHKJuVI-gi",
        "outputId": "f3189dc6-a36c-479c-d1f7-c757f5060b1e"
      },
      "execution_count": 19,
      "outputs": [
        {
          "output_type": "stream",
          "name": "stdout",
          "text": [
            "Enter a composite number N to factor (e.g., 15, 21): 21\n",
            "\n",
            "Valid coprime choices for N = 21: [2, 4, 5, 8, 10, 11, 13, 16, 17, 19, 20]\n",
            "Select a value for 'a' from the list above: 13\n",
            "\n",
            "Estimated order r of a = 13 mod N = 21 is: 2\n",
            "\n",
            "🎉 Non-trivial factors of 21 are: 3 and 7\n"
          ]
        }
      ]
    }
  ],
  "metadata": {
    "colab": {
      "provenance": []
    },
    "kernelspec": {
      "display_name": "Python 3",
      "name": "python3"
    },
    "language_info": {
      "name": "python"
    }
  },
  "nbformat": 4,
  "nbformat_minor": 0
}